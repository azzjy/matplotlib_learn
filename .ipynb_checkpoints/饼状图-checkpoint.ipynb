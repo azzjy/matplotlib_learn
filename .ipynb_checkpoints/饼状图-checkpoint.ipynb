{
 "cells": [
  {
   "cell_type": "code",
   "execution_count": 1,
   "id": "a0f9aa42-85fd-4bed-8da8-ac633bc2738e",
   "metadata": {},
   "outputs": [
    {
     "data": {
      "text/plain": [
       "'\\npie函数可以绘制饼状图，饼图主要是用来呈现比例的，只要传入比例数据即可\\n'"
      ]
     },
     "execution_count": 1,
     "metadata": {},
     "output_type": "execute_result"
    }
   ],
   "source": [
    "'''\n",
    "pie函数可以绘制饼状图，饼图主要是用来呈现比例的，只要传入比例数据即可\n",
    "'''"
   ]
  },
  {
   "cell_type": "code",
   "execution_count": 14,
   "id": "b9517c33-b805-465d-8441-0ee8df68a194",
   "metadata": {},
   "outputs": [
    {
     "ename": "AttributeError",
     "evalue": "'list' object has no attribute 'set_color'",
     "output_type": "error",
     "traceback": [
      "\u001b[0;31m---------------------------------------------------------------------------\u001b[0m",
      "\u001b[0;31mAttributeError\u001b[0m                            Traceback (most recent call last)",
      "Cell \u001b[0;32mIn[14], line 18\u001b[0m\n\u001b[1;32m     16\u001b[0m paches,texts,autotexts\u001b[38;5;241m=\u001b[39mplt\u001b[38;5;241m.\u001b[39mpie([man_perc,woman_perc],labels\u001b[38;5;241m=\u001b[39mlabels,colors\u001b[38;5;241m=\u001b[39mcolors,explode\u001b[38;5;241m=\u001b[39m(\u001b[38;5;241m0\u001b[39m,\u001b[38;5;241m0.05\u001b[39m),autopct\u001b[38;5;241m=\u001b[39m\u001b[38;5;124m'\u001b[39m\u001b[38;5;132;01m%0.1f\u001b[39;00m\u001b[38;5;132;01m%%\u001b[39;00m\u001b[38;5;124m'\u001b[39m)\n\u001b[1;32m     17\u001b[0m \u001b[38;5;66;03m#设置饼状图中的字体颜色 for text in autotexts:\u001b[39;00m\n\u001b[0;32m---> 18\u001b[0m texts\u001b[38;5;241m.\u001b[39mset_color(\u001b[38;5;124m'\u001b[39m\u001b[38;5;124mwhite\u001b[39m\u001b[38;5;124m'\u001b[39m)\n\u001b[1;32m     19\u001b[0m \u001b[38;5;66;03m#设置字体大小\u001b[39;00m\n\u001b[1;32m     20\u001b[0m \u001b[38;5;28;01mfor\u001b[39;00m text \u001b[38;5;129;01min\u001b[39;00m texts\u001b[38;5;241m+\u001b[39mautotexts:\n",
      "\u001b[0;31mAttributeError\u001b[0m: 'list' object has no attribute 'set_color'"
     ]
    },
    {
     "name": "stderr",
     "output_type": "stream",
     "text": [
      "findfont: Generic family 'sans-serif' not found because none of the following families were found: SimHei\n",
      "findfont: Generic family 'sans-serif' not found because none of the following families were found: SimHei\n",
      "/opt/miniconda3/lib/python3.12/site-packages/IPython/core/events.py:82: UserWarning: Glyph 30007 (\\N{CJK UNIFIED IDEOGRAPH-7537}) missing from font(s) DejaVu Sans.\n",
      "  func(*args, **kwargs)\n",
      "findfont: Generic family 'sans-serif' not found because none of the following families were found: SimHei\n",
      "findfont: Generic family 'sans-serif' not found because none of the following families were found: SimHei\n",
      "findfont: Generic family 'sans-serif' not found because none of the following families were found: SimHei\n",
      "findfont: Generic family 'sans-serif' not found because none of the following families were found: SimHei\n",
      "/opt/miniconda3/lib/python3.12/site-packages/IPython/core/events.py:82: UserWarning: Glyph 22899 (\\N{CJK UNIFIED IDEOGRAPH-5973}) missing from font(s) DejaVu Sans.\n",
      "  func(*args, **kwargs)\n",
      "findfont: Generic family 'sans-serif' not found because none of the following families were found: SimHei\n",
      "findfont: Generic family 'sans-serif' not found because none of the following families were found: SimHei\n",
      "findfont: Generic family 'sans-serif' not found because none of the following families were found: SimHei\n",
      "findfont: Generic family 'sans-serif' not found because none of the following families were found: SimHei\n",
      "findfont: Generic family 'sans-serif' not found because none of the following families were found: SimHei\n",
      "/opt/miniconda3/lib/python3.12/site-packages/IPython/core/pylabtools.py:152: UserWarning: Glyph 30007 (\\N{CJK UNIFIED IDEOGRAPH-7537}) missing from font(s) DejaVu Sans.\n",
      "  fig.canvas.print_figure(bytes_io, **kw)\n",
      "findfont: Generic family 'sans-serif' not found because none of the following families were found: SimHei\n",
      "findfont: Generic family 'sans-serif' not found because none of the following families were found: SimHei\n",
      "findfont: Generic family 'sans-serif' not found because none of the following families were found: SimHei\n",
      "findfont: Generic family 'sans-serif' not found because none of the following families were found: SimHei\n",
      "/opt/miniconda3/lib/python3.12/site-packages/IPython/core/pylabtools.py:152: UserWarning: Glyph 22899 (\\N{CJK UNIFIED IDEOGRAPH-5973}) missing from font(s) DejaVu Sans.\n",
      "  fig.canvas.print_figure(bytes_io, **kw)\n",
      "findfont: Generic family 'sans-serif' not found because none of the following families were found: SimHei\n",
      "findfont: Generic family 'sans-serif' not found because none of the following families were found: SimHei\n",
      "findfont: Generic family 'sans-serif' not found because none of the following families were found: SimHei\n"
     ]
    },
    {
     "data": {
      "image/png": "[encoded data removed]",
      "text/plain": [
       "<Figure size 640x480 with 1 Axes>"
      ]
     },
     "metadata": {},
     "output_type": "display_data"
    }
   ],
   "source": [
    "#导入模块\n",
    "import matplotlib.pyplot as plt\n",
    "import numpy as np\n",
    "#准备男、女的人数及比例\n",
    "man=71351\n",
    "woman=68187\n",
    "man_perc=man/(woman+man)\n",
    "woman_perc=woman/(woman+man)\n",
    "#添加名称\n",
    "labels=['男','女']\n",
    "#添加颜色\n",
    "colors=['blue','red']\n",
    "#绘制饼状图 pie\n",
    "plt.rcParams['font.sans-serif']=['SimHei'] #用来正常显示中文标签\n",
    "# labels 名称 colors:颜色，explode=分裂 autopct 显示百分比 \n",
    "paches,texts,autotexts=plt.pie([man_perc,woman_perc],labels=labels,colors=colors,explode=(0,0.05),autopct='%0.1f%%')\n",
    "#设置饼状图中的字体颜色 for text in autotexts:\n",
    "texts.set_color('white')\n",
    "#设置字体大小\n",
    "for text in texts+autotexts:\n",
    "    text.set_fontsize(20) \n",
    "plt.show()"
   ]
  },
  {
   "cell_type": "code",
   "execution_count": null,
   "id": "85aea560-b761-4cd6-bcef-4530a5c83dc4",
   "metadata": {},
   "outputs": [],
   "source": []
  }
 ],
 "metadata": {
  "kernelspec": {
   "display_name": "Python 3 (ipykernel)",
   "language": "python",
   "name": "python3"
  },
  "language_info": {
   "codemirror_mode": {
    "name": "ipython",
    "version": 3
   },
   "file_extension": ".py",
   "mimetype": "text/x-python",
   "name": "python",
   "nbconvert_exporter": "python",
   "pygments_lexer": "ipython3",
   "version": "3.12.3"
  }
 },
 "nbformat": 4,
 "nbformat_minor": 5
}
