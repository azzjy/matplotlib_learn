{
 "cells": [
  {
   "cell_type": "code",
   "execution_count": 22,
   "id": "9b7316f8-0cef-4056-8bca-7747108a19a5",
   "metadata": {},
   "outputs": [],
   "source": [
    "import matplotlib.pyplot as plt\n",
    "import numpy as np\n",
    "#导入3D包\n",
    "from mpl_toolkits.mplot3d import Axes3D"
   ]
  },
  {
   "cell_type": "code",
   "execution_count": 23,
   "id": "3e44c2b2-eb13-44b5-9068-df1c275d60e8",
   "metadata": {},
   "outputs": [
    {
     "data": {
      "text/plain": [
       "<Figure size 640x480 with 0 Axes>"
      ]
     },
     "metadata": {},
     "output_type": "display_data"
    }
   ],
   "source": [
    "#创建X，Y，Z坐标\n",
    "X = [1,1,2,2]\n",
    "Y = [3,4,4,3]\n",
    "Z = [1,100,1,1]\n",
    "fig = plt.figure()\n",
    "#创建了一个Axes3D的子图放到figrue画布里面\n",
    "ax = Axes3D(fig)\n",
    "ax.plot_trisurf(X,Y,Z)\n",
    "plt.show()"
   ]
  },
  {
   "cell_type": "code",
   "execution_count": null,
   "id": "cd840e9d-d40b-4e20-b20e-330dd376887d",
   "metadata": {},
   "outputs": [],
   "source": []
  }
 ],
 "metadata": {
  "kernelspec": {
   "display_name": "Python 3 (ipykernel)",
   "language": "python",
   "name": "python3"
  },
  "language_info": {
   "codemirror_mode": {
    "name": "ipython",
    "version": 3
   },
   "file_extension": ".py",
   "mimetype": "text/x-python",
   "name": "python",
   "nbconvert_exporter": "python",
   "pygments_lexer": "ipython3",
   "version": "3.12.3"
  }
 },
 "nbformat": 4,
 "nbformat_minor": 5
}
